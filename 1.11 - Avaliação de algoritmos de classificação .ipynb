{
 "cells": [
  {
   "cell_type": "markdown",
   "metadata": {},
   "source": [
    "### Análise da Matriz de Confusão\n",
    "\n",
    "Dada a seguinte tabela como exemplo, podemos ter:\n",
    "\n",
    "|  | Fraude (sim) | Legítima (não) |\n",
    "| --- | --- | --- |\n",
    "|Fraude (sim) | 200 (TP) | 50 (FP) |\n",
    "| Legítima (não)|50 (FN)|700 (TN)|\n",
    "\n",
    "- **True Positives** (TP - verdadeiro positivo) Quando o classificador previu SIM (é fraude) e a classe correta é SIM (é fraude)\n",
    "- **True Negatives** (TN - verdadeiro negativo) Quando o classificador previu NÃO (não é fraude) e a classe correta é NÂO (não é fraude)\n",
    "- **False Positives** (FP - falso positivo # type I error) Quando o classificador previu SIM (é fraude) mas a classe correta era NÃO (não é fraude)\n",
    "- **False Negatives** (FN - falso negativo # type II error) Quando o classificador previu NÃO (não é fraude), mas a classe correta era SIM (é fraude)\n",
    "\n",
    "OBS: Nem sempre a taxa de acurácia maior será a melhor. Nesse caso, temos um accuracy de 90% e se para os erros tipo I e II tivermos valores distintos a empresa perde dinheiro Neste caso, o sistema classificar fraude como legítima pode trazer mais perda para a empresa do que pessoas que não eram fraude e foram classificadas como. Se fizessemos um outro modelo de classificação onde tivéssemos um accuracy menor de 89.5% mas que tivessemos menos erros de classificação tipo II (que tem maior impacto), ainda sim, seria mais viável que o primeiro modelo pois haveria menor perda de capital para a empresa.\n"
   ]
  },
  {
   "cell_type": "markdown",
   "metadata": {},
   "source": [
    "### Precision (Precisão) e Recall (revocação)\n",
    "\n",
    "- Dada a tabela acima, podemos pensar em quando o modelo previu SIM, o quanto ele estava correto?\n",
    "\n",
    "TP/(TP+FP) = 200/(200+50) = 0.8\n",
    "\n",
    "Quando o modelo preve uma fraude, ele está correto em 80% dos casos, que é a ideia do Precision\n",
    "\n",
    "- Agora, para o recall podemos pensar em quando a classe é SIM, o quanto o modelo classificou corretamente?\n",
    "\n",
    "TP/(TP+FN) = 200/(200+50) = 0.8, ou seja, o modelo identifica corretamente 80% de todas as fraudes da base de dados"
   ]
  },
  {
   "cell_type": "markdown",
   "metadata": {},
   "source": [
    "### Validação cruzada\n",
    "- K-fold Cross Validation - divide a base de dados em k partes e depois utiliza cada uma das k partes como base de dados teste e o resto treinamento  e depois faz a média das validações de cada uma das k validações\n",
    "OBS: muito indicada para bases de dados menores (70% train 30% test)\n",
    "\n",
    "###  Underfitting\n",
    "Quando você tem um problema muito complexo e utiliza um algoritmo muito simples para tentar resolver o problema\n",
    "- Resultados ruins na base de treinamento\n",
    "### Overfitting\n",
    "Quando o modelo se ajusta muito bem aos dados que já temos mas que não consegue fazer uma classificação adequada para novos dados. Se adapta/ajusta muito bem aos dados de treinamento mas não a base de teste.\n",
    "- Resultados bons na base de treinamento\n",
    "- Resultados ruins na base de teste\n",
    "- Muito específico/memorização\n",
    "- Erros na variação de novas instâncias"
   ]
  },
  {
   "cell_type": "markdown",
   "metadata": {},
   "source": [
    "### Ajuste dos Parâmetros dos algoritmos\n",
    "\n",
    "#### Tuning dos parâmetros com GridSearch\n",
    "- Para bases de dados muito grandes o tempo de execução é maior\n",
    "\n",
    "##### Preparação dos dados"
   ]
  },
  {
   "cell_type": "code",
   "execution_count": 8,
   "metadata": {},
   "outputs": [],
   "source": [
    "import numpy as np\n",
    "\n",
    "from sklearn.model_selection import GridSearchCV #CV de cross validation\n",
    "\n",
    "from sklearn.tree import DecisionTreeClassifier\n",
    "from sklearn.ensemble import RandomForestClassifier\n",
    "from sklearn.neighbors import KNeighborsClassifier\n",
    "from sklearn.linear_model import LogisticRegression\n",
    "from sklearn.svm import SVC\n",
    "from sklearn.neural_network import MLPClassifier"
   ]
  },
  {
   "cell_type": "code",
   "execution_count": 6,
   "metadata": {},
   "outputs": [],
   "source": [
    "import pickle\n",
    "with open('credit.pkl','rb')as f:\n",
    "    x_df_train, y_df_train, x_df_test, y_df_test = pickle.load(f)"
   ]
  },
  {
   "cell_type": "code",
   "execution_count": 7,
   "metadata": {},
   "outputs": [
    {
     "data": {
      "text/plain": [
       "(1500, 3)"
      ]
     },
     "execution_count": 7,
     "metadata": {},
     "output_type": "execute_result"
    }
   ],
   "source": [
    "x_df_train.shape"
   ]
  },
  {
   "cell_type": "code",
   "execution_count": 9,
   "metadata": {},
   "outputs": [],
   "source": [
    "#transformando treino e teste em uma base só\n",
    "x_credit = np.concatenate((x_df_train,x_df_test), axis=0) #axis = 0 para concatenar as linhas"
   ]
  },
  {
   "cell_type": "code",
   "execution_count": 10,
   "metadata": {},
   "outputs": [
    {
     "data": {
      "text/plain": [
       "(2000, 3)"
      ]
     },
     "execution_count": 10,
     "metadata": {},
     "output_type": "execute_result"
    }
   ],
   "source": [
    "x_credit.shape"
   ]
  },
  {
   "cell_type": "code",
   "execution_count": 11,
   "metadata": {},
   "outputs": [],
   "source": [
    "y_credit = np.concatenate((y_df_train,y_df_test), axis=0)"
   ]
  },
  {
   "cell_type": "code",
   "execution_count": 12,
   "metadata": {},
   "outputs": [
    {
     "data": {
      "text/plain": [
       "(2000,)"
      ]
     },
     "execution_count": 12,
     "metadata": {},
     "output_type": "execute_result"
    }
   ],
   "source": [
    "y_credit.shape"
   ]
  },
  {
   "cell_type": "markdown",
   "metadata": {},
   "source": [
    "**Árvore de decisão (98.2%)**"
   ]
  },
  {
   "cell_type": "code",
   "execution_count": 13,
   "metadata": {},
   "outputs": [],
   "source": [
    "parametros = {'criterion': ['gini','entropy'],\n",
    "              'splitter': ['best','random'],\n",
    "              'min_samples_split': [2,5,10],\n",
    "              'min_samples_leaf': [1,5,10]}"
   ]
  },
  {
   "cell_type": "code",
   "execution_count": 15,
   "metadata": {},
   "outputs": [
    {
     "name": "stdout",
     "output_type": "stream",
     "text": [
      "{'criterion': 'entropy', 'min_samples_leaf': 1, 'min_samples_split': 5, 'splitter': 'best'}\n",
      "0.983\n"
     ]
    }
   ],
   "source": [
    "grid_search = GridSearchCV(estimator=DecisionTreeClassifier(), param_grid=parametros)\n",
    "grid_search.fit(x_credit, y_credit)\n",
    "melhores_parametros = grid_search.best_params_\n",
    "melhor_resultado = grid_search.best_score_\n",
    "print(melhores_parametros)\n",
    "print(melhor_resultado)\n",
    "\n",
    "#antes tinhamos 98.2% e agora 98.3% indicando uma pequena melhoria com esses parametros"
   ]
  },
  {
   "cell_type": "markdown",
   "metadata": {},
   "source": [
    "**Random Forest (98.40%)**"
   ]
  },
  {
   "cell_type": "code",
   "execution_count": 16,
   "metadata": {},
   "outputs": [],
   "source": [
    "parametros1 = {'criterion': ['gini','entropy'],\n",
    "              'n_estimators': [10,40,100,150],\n",
    "              'min_samples_split': [2,5,10],\n",
    "              'min_samples_leaf': [1,5,10]}"
   ]
  },
  {
   "cell_type": "code",
   "execution_count": 17,
   "metadata": {},
   "outputs": [
    {
     "name": "stdout",
     "output_type": "stream",
     "text": [
      "{'criterion': 'entropy', 'min_samples_leaf': 1, 'min_samples_split': 2, 'n_estimators': 150}\n",
      "0.9875\n"
     ]
    }
   ],
   "source": [
    "grid_search1 = GridSearchCV(estimator=RandomForestClassifier(), param_grid=parametros1)\n",
    "grid_search1.fit(x_credit, y_credit)\n",
    "melhores_parametros = grid_search1.best_params_\n",
    "melhor_resultado = grid_search1.best_score_\n",
    "print(melhores_parametros)\n",
    "print(melhor_resultado)\n",
    "\n",
    "# Com esta combinação temos uma melhora nos resultados de 98.4 para 98.75%"
   ]
  },
  {
   "cell_type": "markdown",
   "metadata": {},
   "source": [
    "**KNN (98.6%)**"
   ]
  },
  {
   "cell_type": "code",
   "execution_count": 18,
   "metadata": {},
   "outputs": [],
   "source": [
    "parametros2 = {'n_neighbors': [3,5,10,20],\n",
    "              'p': [1,2]}"
   ]
  },
  {
   "cell_type": "code",
   "execution_count": 19,
   "metadata": {},
   "outputs": [
    {
     "name": "stdout",
     "output_type": "stream",
     "text": [
      "{'n_neighbors': 20, 'p': 1}\n",
      "0.9800000000000001\n"
     ]
    }
   ],
   "source": [
    "grid_search2 = GridSearchCV(estimator=KNeighborsClassifier(), param_grid=parametros2)\n",
    "grid_search2.fit(x_credit, y_credit)\n",
    "melhores_parametros = grid_search2.best_params_\n",
    "melhor_resultado = grid_search2.best_score_\n",
    "print(melhores_parametros)\n",
    "print(melhor_resultado)\n",
    "\n",
    "# para este algoritmo iremos manter as configurações pois através do grid search nao obtivemos uma melhora nos resultados"
   ]
  },
  {
   "cell_type": "markdown",
   "metadata": {},
   "source": [
    "**Regressão Logística (94.60%)**"
   ]
  },
  {
   "cell_type": "code",
   "execution_count": 20,
   "metadata": {},
   "outputs": [],
   "source": [
    "parametros3 = {'tol': [0.0001, 0.00001, 0.000001],\n",
    "              'C': [1.0, 1.5, 2.0],\n",
    "              'solver': ['lbfgs', 'sag', 'saga']}"
   ]
  },
  {
   "cell_type": "code",
   "execution_count": 22,
   "metadata": {},
   "outputs": [
    {
     "name": "stdout",
     "output_type": "stream",
     "text": [
      "{'C': 1.0, 'solver': 'lbfgs', 'tol': 0.0001}\n",
      "0.9484999999999999\n"
     ]
    }
   ],
   "source": [
    "grid_search3 = GridSearchCV(estimator=LogisticRegression(), param_grid=parametros3)\n",
    "grid_search3.fit(x_credit, y_credit)\n",
    "melhores_parametros = grid_search3.best_params_\n",
    "melhor_resultado = grid_search3.best_score_\n",
    "print(melhores_parametros)\n",
    "print(melhor_resultado)\n",
    "\n",
    "#com a seguinte combinação de parametros chegamos a resultados ligeiramente melhores indo de 94.6 para 94.85%"
   ]
  },
  {
   "cell_type": "markdown",
   "metadata": {},
   "source": [
    "**SVM (98.8%)**"
   ]
  },
  {
   "cell_type": "code",
   "execution_count": 23,
   "metadata": {},
   "outputs": [],
   "source": [
    "parametros4 = {'tol': [0.001, 0.0001, 0.00001],\n",
    "              'C': [1.0, 1.5, 2.0],\n",
    "              'kernel': ['rbf', 'linear', 'poly', 'sigmoid']}"
   ]
  },
  {
   "cell_type": "code",
   "execution_count": 24,
   "metadata": {},
   "outputs": [
    {
     "name": "stdout",
     "output_type": "stream",
     "text": [
      "{'C': 1.5, 'kernel': 'rbf', 'tol': 0.001}\n",
      "0.9829999999999999\n"
     ]
    }
   ],
   "source": [
    "grid_search4 = GridSearchCV(estimator=SVC(), param_grid=parametros4)\n",
    "grid_search4.fit(x_credit, y_credit)\n",
    "melhores_parametros = grid_search4.best_params_\n",
    "melhor_resultado = grid_search4.best_score_\n",
    "print(melhores_parametros)\n",
    "print(melhor_resultado)\n",
    "\n",
    "#Diminuiu os resultados"
   ]
  },
  {
   "cell_type": "markdown",
   "metadata": {},
   "source": [
    "**Redes neurais (99.60%)**"
   ]
  },
  {
   "cell_type": "code",
   "execution_count": 25,
   "metadata": {},
   "outputs": [],
   "source": [
    "parametros5 = {'activation': ['relu', 'logistic','tahn'],\n",
    "              'solver': ['adam','sgd'],\n",
    "              'batch_size': [10, 56]}"
   ]
  },
  {
   "cell_type": "code",
   "execution_count": 26,
   "metadata": {},
   "outputs": [
    {
     "name": "stderr",
     "output_type": "stream",
     "text": [
      "C:\\ProgramData\\Anaconda3\\lib\\site-packages\\sklearn\\neural_network\\_multilayer_perceptron.py:582: ConvergenceWarning: Stochastic Optimizer: Maximum iterations (200) reached and the optimization hasn't converged yet.\n",
      "  warnings.warn(\n",
      "C:\\ProgramData\\Anaconda3\\lib\\site-packages\\sklearn\\neural_network\\_multilayer_perceptron.py:582: ConvergenceWarning: Stochastic Optimizer: Maximum iterations (200) reached and the optimization hasn't converged yet.\n",
      "  warnings.warn(\n",
      "C:\\ProgramData\\Anaconda3\\lib\\site-packages\\sklearn\\neural_network\\_multilayer_perceptron.py:582: ConvergenceWarning: Stochastic Optimizer: Maximum iterations (200) reached and the optimization hasn't converged yet.\n",
      "  warnings.warn(\n",
      "C:\\ProgramData\\Anaconda3\\lib\\site-packages\\sklearn\\neural_network\\_multilayer_perceptron.py:582: ConvergenceWarning: Stochastic Optimizer: Maximum iterations (200) reached and the optimization hasn't converged yet.\n",
      "  warnings.warn(\n",
      "C:\\ProgramData\\Anaconda3\\lib\\site-packages\\sklearn\\neural_network\\_multilayer_perceptron.py:582: ConvergenceWarning: Stochastic Optimizer: Maximum iterations (200) reached and the optimization hasn't converged yet.\n",
      "  warnings.warn(\n",
      "C:\\ProgramData\\Anaconda3\\lib\\site-packages\\sklearn\\neural_network\\_multilayer_perceptron.py:582: ConvergenceWarning: Stochastic Optimizer: Maximum iterations (200) reached and the optimization hasn't converged yet.\n",
      "  warnings.warn(\n",
      "C:\\ProgramData\\Anaconda3\\lib\\site-packages\\sklearn\\neural_network\\_multilayer_perceptron.py:582: ConvergenceWarning: Stochastic Optimizer: Maximum iterations (200) reached and the optimization hasn't converged yet.\n",
      "  warnings.warn(\n",
      "C:\\ProgramData\\Anaconda3\\lib\\site-packages\\sklearn\\neural_network\\_multilayer_perceptron.py:582: ConvergenceWarning: Stochastic Optimizer: Maximum iterations (200) reached and the optimization hasn't converged yet.\n",
      "  warnings.warn(\n",
      "C:\\ProgramData\\Anaconda3\\lib\\site-packages\\sklearn\\neural_network\\_multilayer_perceptron.py:582: ConvergenceWarning: Stochastic Optimizer: Maximum iterations (200) reached and the optimization hasn't converged yet.\n",
      "  warnings.warn(\n",
      "C:\\ProgramData\\Anaconda3\\lib\\site-packages\\sklearn\\neural_network\\_multilayer_perceptron.py:582: ConvergenceWarning: Stochastic Optimizer: Maximum iterations (200) reached and the optimization hasn't converged yet.\n",
      "  warnings.warn(\n",
      "C:\\ProgramData\\Anaconda3\\lib\\site-packages\\sklearn\\neural_network\\_multilayer_perceptron.py:582: ConvergenceWarning: Stochastic Optimizer: Maximum iterations (200) reached and the optimization hasn't converged yet.\n",
      "  warnings.warn(\n",
      "C:\\ProgramData\\Anaconda3\\lib\\site-packages\\sklearn\\neural_network\\_multilayer_perceptron.py:582: ConvergenceWarning: Stochastic Optimizer: Maximum iterations (200) reached and the optimization hasn't converged yet.\n",
      "  warnings.warn(\n",
      "C:\\ProgramData\\Anaconda3\\lib\\site-packages\\sklearn\\neural_network\\_multilayer_perceptron.py:582: ConvergenceWarning: Stochastic Optimizer: Maximum iterations (200) reached and the optimization hasn't converged yet.\n",
      "  warnings.warn(\n",
      "C:\\ProgramData\\Anaconda3\\lib\\site-packages\\sklearn\\neural_network\\_multilayer_perceptron.py:582: ConvergenceWarning: Stochastic Optimizer: Maximum iterations (200) reached and the optimization hasn't converged yet.\n",
      "  warnings.warn(\n",
      "C:\\ProgramData\\Anaconda3\\lib\\site-packages\\sklearn\\neural_network\\_multilayer_perceptron.py:582: ConvergenceWarning: Stochastic Optimizer: Maximum iterations (200) reached and the optimization hasn't converged yet.\n",
      "  warnings.warn(\n",
      "C:\\ProgramData\\Anaconda3\\lib\\site-packages\\sklearn\\neural_network\\_multilayer_perceptron.py:582: ConvergenceWarning: Stochastic Optimizer: Maximum iterations (200) reached and the optimization hasn't converged yet.\n",
      "  warnings.warn(\n",
      "C:\\ProgramData\\Anaconda3\\lib\\site-packages\\sklearn\\neural_network\\_multilayer_perceptron.py:582: ConvergenceWarning: Stochastic Optimizer: Maximum iterations (200) reached and the optimization hasn't converged yet.\n",
      "  warnings.warn(\n",
      "C:\\ProgramData\\Anaconda3\\lib\\site-packages\\sklearn\\neural_network\\_multilayer_perceptron.py:582: ConvergenceWarning: Stochastic Optimizer: Maximum iterations (200) reached and the optimization hasn't converged yet.\n",
      "  warnings.warn(\n",
      "C:\\ProgramData\\Anaconda3\\lib\\site-packages\\sklearn\\neural_network\\_multilayer_perceptron.py:582: ConvergenceWarning: Stochastic Optimizer: Maximum iterations (200) reached and the optimization hasn't converged yet.\n",
      "  warnings.warn(\n",
      "C:\\ProgramData\\Anaconda3\\lib\\site-packages\\sklearn\\neural_network\\_multilayer_perceptron.py:582: ConvergenceWarning: Stochastic Optimizer: Maximum iterations (200) reached and the optimization hasn't converged yet.\n",
      "  warnings.warn(\n",
      "C:\\ProgramData\\Anaconda3\\lib\\site-packages\\sklearn\\neural_network\\_multilayer_perceptron.py:582: ConvergenceWarning: Stochastic Optimizer: Maximum iterations (200) reached and the optimization hasn't converged yet.\n",
      "  warnings.warn(\n",
      "C:\\ProgramData\\Anaconda3\\lib\\site-packages\\sklearn\\neural_network\\_multilayer_perceptron.py:582: ConvergenceWarning: Stochastic Optimizer: Maximum iterations (200) reached and the optimization hasn't converged yet.\n",
      "  warnings.warn(\n",
      "C:\\ProgramData\\Anaconda3\\lib\\site-packages\\sklearn\\neural_network\\_multilayer_perceptron.py:582: ConvergenceWarning: Stochastic Optimizer: Maximum iterations (200) reached and the optimization hasn't converged yet.\n",
      "  warnings.warn(\n",
      "C:\\ProgramData\\Anaconda3\\lib\\site-packages\\sklearn\\neural_network\\_multilayer_perceptron.py:582: ConvergenceWarning: Stochastic Optimizer: Maximum iterations (200) reached and the optimization hasn't converged yet.\n",
      "  warnings.warn(\n",
      "C:\\ProgramData\\Anaconda3\\lib\\site-packages\\sklearn\\neural_network\\_multilayer_perceptron.py:582: ConvergenceWarning: Stochastic Optimizer: Maximum iterations (200) reached and the optimization hasn't converged yet.\n",
      "  warnings.warn(\n",
      "C:\\ProgramData\\Anaconda3\\lib\\site-packages\\sklearn\\neural_network\\_multilayer_perceptron.py:582: ConvergenceWarning: Stochastic Optimizer: Maximum iterations (200) reached and the optimization hasn't converged yet.\n",
      "  warnings.warn(\n",
      "C:\\ProgramData\\Anaconda3\\lib\\site-packages\\sklearn\\neural_network\\_multilayer_perceptron.py:582: ConvergenceWarning: Stochastic Optimizer: Maximum iterations (200) reached and the optimization hasn't converged yet.\n",
      "  warnings.warn(\n",
      "C:\\ProgramData\\Anaconda3\\lib\\site-packages\\sklearn\\neural_network\\_multilayer_perceptron.py:582: ConvergenceWarning: Stochastic Optimizer: Maximum iterations (200) reached and the optimization hasn't converged yet.\n",
      "  warnings.warn(\n",
      "C:\\ProgramData\\Anaconda3\\lib\\site-packages\\sklearn\\neural_network\\_multilayer_perceptron.py:582: ConvergenceWarning: Stochastic Optimizer: Maximum iterations (200) reached and the optimization hasn't converged yet.\n",
      "  warnings.warn(\n",
      "C:\\ProgramData\\Anaconda3\\lib\\site-packages\\sklearn\\neural_network\\_multilayer_perceptron.py:582: ConvergenceWarning: Stochastic Optimizer: Maximum iterations (200) reached and the optimization hasn't converged yet.\n",
      "  warnings.warn(\n",
      "C:\\ProgramData\\Anaconda3\\lib\\site-packages\\sklearn\\neural_network\\_multilayer_perceptron.py:582: ConvergenceWarning: Stochastic Optimizer: Maximum iterations (200) reached and the optimization hasn't converged yet.\n",
      "  warnings.warn(\n",
      "C:\\ProgramData\\Anaconda3\\lib\\site-packages\\sklearn\\neural_network\\_multilayer_perceptron.py:582: ConvergenceWarning: Stochastic Optimizer: Maximum iterations (200) reached and the optimization hasn't converged yet.\n",
      "  warnings.warn(\n",
      "C:\\ProgramData\\Anaconda3\\lib\\site-packages\\sklearn\\model_selection\\_validation.py:548: FitFailedWarning: Estimator fit failed. The score on this train-test partition for these parameters will be set to nan. Details: \n",
      "Traceback (most recent call last):\n",
      "  File \"C:\\ProgramData\\Anaconda3\\lib\\site-packages\\sklearn\\model_selection\\_validation.py\", line 531, in _fit_and_score\n",
      "    estimator.fit(X_train, y_train, **fit_params)\n",
      "  File \"C:\\ProgramData\\Anaconda3\\lib\\site-packages\\sklearn\\neural_network\\_multilayer_perceptron.py\", line 1027, in fit\n",
      "    return self._fit(X, y, incremental=(self.warm_start and\n",
      "  File \"C:\\ProgramData\\Anaconda3\\lib\\site-packages\\sklearn\\neural_network\\_multilayer_perceptron.py\", line 321, in _fit\n",
      "    self._validate_hyperparameters()\n",
      "  File \"C:\\ProgramData\\Anaconda3\\lib\\site-packages\\sklearn\\neural_network\\_multilayer_perceptron.py\", line 419, in _validate_hyperparameters\n",
      "    raise ValueError(\"The activation '%s' is not supported. Supported \"\n",
      "ValueError: The activation 'tahn' is not supported. Supported activations are ['identity', 'logistic', 'relu', 'softmax', 'tanh'].\n",
      "\n",
      "  warnings.warn(\"Estimator fit failed. The score on this train-test\"\n"
     ]
    },
    {
     "name": "stdout",
     "output_type": "stream",
     "text": [
      "{'activation': 'relu', 'batch_size': 10, 'solver': 'adam'}\n",
      "0.9964999999999999\n"
     ]
    }
   ],
   "source": [
    "grid_search5 = GridSearchCV(estimator=MLPClassifier(), param_grid=parametros5)\n",
    "grid_search5.fit(x_credit, y_credit)\n",
    "melhores_parametros = grid_search5.best_params_\n",
    "melhor_resultado = grid_search5.best_score_\n",
    "print(melhores_parametros)\n",
    "print(melhor_resultado)\n",
    "\n"
   ]
  },
  {
   "cell_type": "code",
   "execution_count": 27,
   "metadata": {},
   "outputs": [
    {
     "name": "stdout",
     "output_type": "stream",
     "text": [
      "{'activation': 'relu', 'batch_size': 10, 'solver': 'adam'}\n",
      "0.9964999999999999\n"
     ]
    }
   ],
   "source": [
    "print(melhores_parametros)\n",
    "print(melhor_resultado)\n",
    "\n",
    "#ouve uma ligeira melhora nos resultados"
   ]
  },
  {
   "cell_type": "markdown",
   "metadata": {},
   "source": [
    "### Validação cruzada - Implementação"
   ]
  },
  {
   "cell_type": "code",
   "execution_count": 28,
   "metadata": {},
   "outputs": [],
   "source": [
    "from sklearn.model_selection import cross_val_score, KFold"
   ]
  },
  {
   "cell_type": "code",
   "execution_count": 46,
   "metadata": {},
   "outputs": [],
   "source": [
    "resultados_arvore = []\n",
    "resultados_random_forest = []\n",
    "resultados_knn = []\n",
    "resultados_logistica = []\n",
    "resultados_svm = []\n",
    "resultados_redes_neurais = []\n",
    "\n",
    "for i in range(30):               #vamos rodar o teste 30x que é um numero aceito na comunidade cientifica\n",
    "    kfold = KFold(n_splits=10, shuffle=True, random_state=i) #com 10 splits temos 30x10 =300 testes para cada um dos algoritmos\n",
    "    \n",
    "    arvore = DecisionTreeClassifier(criterion='entropy', min_samples_leaf=1, min_samples_split=5, splitter = 'best') #utilizando os parametros encontrados no tuning\n",
    "    scores = cross_val_score(arvore, x_credit, y_credit, cv = kfold)\n",
    "#n_splits = 10 significa que vamos dividir a base em 10 partes e 9 serao pra treinamento e 1 para teste\n",
    "#shuffle=True para que o algoritmo sempre misture os dados\n",
    "\n",
    "    #print(scores)\n",
    "    #print(scores.mean())\n",
    "    resultados_arvore.append(scores.mean())\n",
    "    \n",
    "    random_forest = RandomForestClassifier(criterion = 'entropy', min_samples_leaf = 1, min_samples_split = 2, n_estimators = 150)\n",
    "    scores = cross_val_score(random_forest, x_credit, y_credit, cv=kfold)\n",
    "    resultados_random_forest.append(scores.mean())\n",
    "    \n",
    "    knn = KNeighborsClassifier(n_neighbors = 20, p = 1)\n",
    "    scores = cross_val_score(knn, x_credit, y_credit, cv = kfold)\n",
    "    resultados_knn.append(scores.mean())\n",
    "    \n",
    "    reg_logistica = LogisticRegression(C = 1.0, solver = 'lbfgs', tol = 0.0001)\n",
    "    scores = cross_val_score(reg_logistica, x_credit, y_credit, cv = kfold)\n",
    "    resultados_logistica.append(scores.mean())\n",
    "    \n",
    "    svm = SVC(C = 1.5, kernel = 'rbf', tol = 0.001)\n",
    "    scores = cross_val_score(svm, x_credit, y_credit, cv = kfold)\n",
    "    resultados_svm.append(scores.mean())\n",
    "    \n",
    "    redes_neurais = MLPClassifier(activation = 'relu', batch_size = 10, solver = 'adam')\n",
    "    scores = cross_val_score(redes_neurais, x_credit, y_credit, cv = kfold)\n",
    "    resultados_redes_neurais.append(scores.mean())"
   ]
  },
  {
   "cell_type": "code",
   "execution_count": 49,
   "metadata": {},
   "outputs": [],
   "source": [
    "import pandas as pd\n",
    "resultados = pd.DataFrame({'Arvore': resultados_arvore, 'random_forest': resultados_random_forest,\n",
    "                          'knn': resultados_knn, 'reg_logistica': resultados_logistica,\n",
    "                          'svm': resultados_svm, 'redes_neurais': resultados_redes_neurais})"
   ]
  },
  {
   "cell_type": "code",
   "execution_count": 54,
   "metadata": {},
   "outputs": [
    {
     "data": {
      "text/html": [
       "<div>\n",
       "<style scoped>\n",
       "    .dataframe tbody tr th:only-of-type {\n",
       "        vertical-align: middle;\n",
       "    }\n",
       "\n",
       "    .dataframe tbody tr th {\n",
       "        vertical-align: top;\n",
       "    }\n",
       "\n",
       "    .dataframe thead th {\n",
       "        text-align: right;\n",
       "    }\n",
       "</style>\n",
       "<table border=\"1\" class=\"dataframe\">\n",
       "  <thead>\n",
       "    <tr style=\"text-align: right;\">\n",
       "      <th></th>\n",
       "      <th>Arvore</th>\n",
       "      <th>random_forest</th>\n",
       "      <th>knn</th>\n",
       "      <th>reg_logistica</th>\n",
       "      <th>svm</th>\n",
       "      <th>redes_neurais</th>\n",
       "    </tr>\n",
       "  </thead>\n",
       "  <tbody>\n",
       "    <tr>\n",
       "      <th>0</th>\n",
       "      <td>0.9865</td>\n",
       "      <td>0.9865</td>\n",
       "      <td>0.9800</td>\n",
       "      <td>0.9475</td>\n",
       "      <td>0.9835</td>\n",
       "      <td>0.9970</td>\n",
       "    </tr>\n",
       "    <tr>\n",
       "      <th>1</th>\n",
       "      <td>0.9855</td>\n",
       "      <td>0.9855</td>\n",
       "      <td>0.9800</td>\n",
       "      <td>0.9465</td>\n",
       "      <td>0.9840</td>\n",
       "      <td>0.9970</td>\n",
       "    </tr>\n",
       "    <tr>\n",
       "      <th>2</th>\n",
       "      <td>0.9905</td>\n",
       "      <td>0.9890</td>\n",
       "      <td>0.9800</td>\n",
       "      <td>0.9470</td>\n",
       "      <td>0.9835</td>\n",
       "      <td>0.9965</td>\n",
       "    </tr>\n",
       "    <tr>\n",
       "      <th>3</th>\n",
       "      <td>0.9875</td>\n",
       "      <td>0.9875</td>\n",
       "      <td>0.9800</td>\n",
       "      <td>0.9460</td>\n",
       "      <td>0.9845</td>\n",
       "      <td>0.9965</td>\n",
       "    </tr>\n",
       "    <tr>\n",
       "      <th>4</th>\n",
       "      <td>0.9885</td>\n",
       "      <td>0.9890</td>\n",
       "      <td>0.9810</td>\n",
       "      <td>0.9465</td>\n",
       "      <td>0.9855</td>\n",
       "      <td>0.9950</td>\n",
       "    </tr>\n",
       "    <tr>\n",
       "      <th>5</th>\n",
       "      <td>0.9885</td>\n",
       "      <td>0.9870</td>\n",
       "      <td>0.9785</td>\n",
       "      <td>0.9465</td>\n",
       "      <td>0.9835</td>\n",
       "      <td>0.9975</td>\n",
       "    </tr>\n",
       "    <tr>\n",
       "      <th>6</th>\n",
       "      <td>0.9880</td>\n",
       "      <td>0.9885</td>\n",
       "      <td>0.9800</td>\n",
       "      <td>0.9470</td>\n",
       "      <td>0.9840</td>\n",
       "      <td>0.9955</td>\n",
       "    </tr>\n",
       "    <tr>\n",
       "      <th>7</th>\n",
       "      <td>0.9875</td>\n",
       "      <td>0.9880</td>\n",
       "      <td>0.9805</td>\n",
       "      <td>0.9480</td>\n",
       "      <td>0.9845</td>\n",
       "      <td>0.9955</td>\n",
       "    </tr>\n",
       "    <tr>\n",
       "      <th>8</th>\n",
       "      <td>0.9865</td>\n",
       "      <td>0.9885</td>\n",
       "      <td>0.9810</td>\n",
       "      <td>0.9465</td>\n",
       "      <td>0.9820</td>\n",
       "      <td>0.9950</td>\n",
       "    </tr>\n",
       "    <tr>\n",
       "      <th>9</th>\n",
       "      <td>0.9870</td>\n",
       "      <td>0.9880</td>\n",
       "      <td>0.9810</td>\n",
       "      <td>0.9465</td>\n",
       "      <td>0.9830</td>\n",
       "      <td>0.9960</td>\n",
       "    </tr>\n",
       "    <tr>\n",
       "      <th>10</th>\n",
       "      <td>0.9865</td>\n",
       "      <td>0.9855</td>\n",
       "      <td>0.9780</td>\n",
       "      <td>0.9475</td>\n",
       "      <td>0.9825</td>\n",
       "      <td>0.9960</td>\n",
       "    </tr>\n",
       "    <tr>\n",
       "      <th>11</th>\n",
       "      <td>0.9900</td>\n",
       "      <td>0.9900</td>\n",
       "      <td>0.9805</td>\n",
       "      <td>0.9480</td>\n",
       "      <td>0.9825</td>\n",
       "      <td>0.9970</td>\n",
       "    </tr>\n",
       "    <tr>\n",
       "      <th>12</th>\n",
       "      <td>0.9885</td>\n",
       "      <td>0.9880</td>\n",
       "      <td>0.9810</td>\n",
       "      <td>0.9475</td>\n",
       "      <td>0.9845</td>\n",
       "      <td>0.9965</td>\n",
       "    </tr>\n",
       "    <tr>\n",
       "      <th>13</th>\n",
       "      <td>0.9870</td>\n",
       "      <td>0.9885</td>\n",
       "      <td>0.9800</td>\n",
       "      <td>0.9475</td>\n",
       "      <td>0.9840</td>\n",
       "      <td>0.9970</td>\n",
       "    </tr>\n",
       "    <tr>\n",
       "      <th>14</th>\n",
       "      <td>0.9850</td>\n",
       "      <td>0.9870</td>\n",
       "      <td>0.9795</td>\n",
       "      <td>0.9485</td>\n",
       "      <td>0.9835</td>\n",
       "      <td>0.9970</td>\n",
       "    </tr>\n",
       "    <tr>\n",
       "      <th>15</th>\n",
       "      <td>0.9855</td>\n",
       "      <td>0.9870</td>\n",
       "      <td>0.9795</td>\n",
       "      <td>0.9475</td>\n",
       "      <td>0.9845</td>\n",
       "      <td>0.9975</td>\n",
       "    </tr>\n",
       "    <tr>\n",
       "      <th>16</th>\n",
       "      <td>0.9855</td>\n",
       "      <td>0.9870</td>\n",
       "      <td>0.9805</td>\n",
       "      <td>0.9460</td>\n",
       "      <td>0.9840</td>\n",
       "      <td>0.9955</td>\n",
       "    </tr>\n",
       "    <tr>\n",
       "      <th>17</th>\n",
       "      <td>0.9905</td>\n",
       "      <td>0.9870</td>\n",
       "      <td>0.9830</td>\n",
       "      <td>0.9470</td>\n",
       "      <td>0.9845</td>\n",
       "      <td>0.9965</td>\n",
       "    </tr>\n",
       "    <tr>\n",
       "      <th>18</th>\n",
       "      <td>0.9875</td>\n",
       "      <td>0.9890</td>\n",
       "      <td>0.9800</td>\n",
       "      <td>0.9465</td>\n",
       "      <td>0.9850</td>\n",
       "      <td>0.9975</td>\n",
       "    </tr>\n",
       "    <tr>\n",
       "      <th>19</th>\n",
       "      <td>0.9870</td>\n",
       "      <td>0.9880</td>\n",
       "      <td>0.9805</td>\n",
       "      <td>0.9465</td>\n",
       "      <td>0.9840</td>\n",
       "      <td>0.9960</td>\n",
       "    </tr>\n",
       "    <tr>\n",
       "      <th>20</th>\n",
       "      <td>0.9840</td>\n",
       "      <td>0.9860</td>\n",
       "      <td>0.9800</td>\n",
       "      <td>0.9465</td>\n",
       "      <td>0.9835</td>\n",
       "      <td>0.9965</td>\n",
       "    </tr>\n",
       "    <tr>\n",
       "      <th>21</th>\n",
       "      <td>0.9865</td>\n",
       "      <td>0.9880</td>\n",
       "      <td>0.9810</td>\n",
       "      <td>0.9470</td>\n",
       "      <td>0.9850</td>\n",
       "      <td>0.9975</td>\n",
       "    </tr>\n",
       "    <tr>\n",
       "      <th>22</th>\n",
       "      <td>0.9890</td>\n",
       "      <td>0.9890</td>\n",
       "      <td>0.9810</td>\n",
       "      <td>0.9455</td>\n",
       "      <td>0.9845</td>\n",
       "      <td>0.9975</td>\n",
       "    </tr>\n",
       "    <tr>\n",
       "      <th>23</th>\n",
       "      <td>0.9875</td>\n",
       "      <td>0.9870</td>\n",
       "      <td>0.9800</td>\n",
       "      <td>0.9465</td>\n",
       "      <td>0.9870</td>\n",
       "      <td>0.9975</td>\n",
       "    </tr>\n",
       "    <tr>\n",
       "      <th>24</th>\n",
       "      <td>0.9870</td>\n",
       "      <td>0.9875</td>\n",
       "      <td>0.9835</td>\n",
       "      <td>0.9470</td>\n",
       "      <td>0.9840</td>\n",
       "      <td>0.9950</td>\n",
       "    </tr>\n",
       "    <tr>\n",
       "      <th>25</th>\n",
       "      <td>0.9880</td>\n",
       "      <td>0.9860</td>\n",
       "      <td>0.9815</td>\n",
       "      <td>0.9470</td>\n",
       "      <td>0.9820</td>\n",
       "      <td>0.9950</td>\n",
       "    </tr>\n",
       "    <tr>\n",
       "      <th>26</th>\n",
       "      <td>0.9880</td>\n",
       "      <td>0.9870</td>\n",
       "      <td>0.9795</td>\n",
       "      <td>0.9475</td>\n",
       "      <td>0.9825</td>\n",
       "      <td>0.9965</td>\n",
       "    </tr>\n",
       "    <tr>\n",
       "      <th>27</th>\n",
       "      <td>0.9860</td>\n",
       "      <td>0.9860</td>\n",
       "      <td>0.9795</td>\n",
       "      <td>0.9465</td>\n",
       "      <td>0.9850</td>\n",
       "      <td>0.9965</td>\n",
       "    </tr>\n",
       "    <tr>\n",
       "      <th>28</th>\n",
       "      <td>0.9855</td>\n",
       "      <td>0.9855</td>\n",
       "      <td>0.9775</td>\n",
       "      <td>0.9480</td>\n",
       "      <td>0.9830</td>\n",
       "      <td>0.9965</td>\n",
       "    </tr>\n",
       "    <tr>\n",
       "      <th>29</th>\n",
       "      <td>0.9880</td>\n",
       "      <td>0.9865</td>\n",
       "      <td>0.9780</td>\n",
       "      <td>0.9465</td>\n",
       "      <td>0.9860</td>\n",
       "      <td>0.9965</td>\n",
       "    </tr>\n",
       "  </tbody>\n",
       "</table>\n",
       "</div>"
      ],
      "text/plain": [
       "    Arvore  random_forest     knn  reg_logistica     svm  redes_neurais\n",
       "0   0.9865         0.9865  0.9800         0.9475  0.9835         0.9970\n",
       "1   0.9855         0.9855  0.9800         0.9465  0.9840         0.9970\n",
       "2   0.9905         0.9890  0.9800         0.9470  0.9835         0.9965\n",
       "3   0.9875         0.9875  0.9800         0.9460  0.9845         0.9965\n",
       "4   0.9885         0.9890  0.9810         0.9465  0.9855         0.9950\n",
       "5   0.9885         0.9870  0.9785         0.9465  0.9835         0.9975\n",
       "6   0.9880         0.9885  0.9800         0.9470  0.9840         0.9955\n",
       "7   0.9875         0.9880  0.9805         0.9480  0.9845         0.9955\n",
       "8   0.9865         0.9885  0.9810         0.9465  0.9820         0.9950\n",
       "9   0.9870         0.9880  0.9810         0.9465  0.9830         0.9960\n",
       "10  0.9865         0.9855  0.9780         0.9475  0.9825         0.9960\n",
       "11  0.9900         0.9900  0.9805         0.9480  0.9825         0.9970\n",
       "12  0.9885         0.9880  0.9810         0.9475  0.9845         0.9965\n",
       "13  0.9870         0.9885  0.9800         0.9475  0.9840         0.9970\n",
       "14  0.9850         0.9870  0.9795         0.9485  0.9835         0.9970\n",
       "15  0.9855         0.9870  0.9795         0.9475  0.9845         0.9975\n",
       "16  0.9855         0.9870  0.9805         0.9460  0.9840         0.9955\n",
       "17  0.9905         0.9870  0.9830         0.9470  0.9845         0.9965\n",
       "18  0.9875         0.9890  0.9800         0.9465  0.9850         0.9975\n",
       "19  0.9870         0.9880  0.9805         0.9465  0.9840         0.9960\n",
       "20  0.9840         0.9860  0.9800         0.9465  0.9835         0.9965\n",
       "21  0.9865         0.9880  0.9810         0.9470  0.9850         0.9975\n",
       "22  0.9890         0.9890  0.9810         0.9455  0.9845         0.9975\n",
       "23  0.9875         0.9870  0.9800         0.9465  0.9870         0.9975\n",
       "24  0.9870         0.9875  0.9835         0.9470  0.9840         0.9950\n",
       "25  0.9880         0.9860  0.9815         0.9470  0.9820         0.9950\n",
       "26  0.9880         0.9870  0.9795         0.9475  0.9825         0.9965\n",
       "27  0.9860         0.9860  0.9795         0.9465  0.9850         0.9965\n",
       "28  0.9855         0.9855  0.9775         0.9480  0.9830         0.9965\n",
       "29  0.9880         0.9865  0.9780         0.9465  0.9860         0.9965"
      ]
     },
     "execution_count": 54,
     "metadata": {},
     "output_type": "execute_result"
    }
   ],
   "source": [
    "resultados"
   ]
  },
  {
   "cell_type": "code",
   "execution_count": 50,
   "metadata": {},
   "outputs": [
    {
     "data": {
      "text/html": [
       "<div>\n",
       "<style scoped>\n",
       "    .dataframe tbody tr th:only-of-type {\n",
       "        vertical-align: middle;\n",
       "    }\n",
       "\n",
       "    .dataframe tbody tr th {\n",
       "        vertical-align: top;\n",
       "    }\n",
       "\n",
       "    .dataframe thead th {\n",
       "        text-align: right;\n",
       "    }\n",
       "</style>\n",
       "<table border=\"1\" class=\"dataframe\">\n",
       "  <thead>\n",
       "    <tr style=\"text-align: right;\">\n",
       "      <th></th>\n",
       "      <th>Arvore</th>\n",
       "      <th>random_forest</th>\n",
       "      <th>knn</th>\n",
       "      <th>reg_logistica</th>\n",
       "      <th>svm</th>\n",
       "      <th>redes_neurais</th>\n",
       "    </tr>\n",
       "  </thead>\n",
       "  <tbody>\n",
       "    <tr>\n",
       "      <th>count</th>\n",
       "      <td>30.000000</td>\n",
       "      <td>30.000000</td>\n",
       "      <td>30.000000</td>\n",
       "      <td>30.000000</td>\n",
       "      <td>30.000000</td>\n",
       "      <td>30.000000</td>\n",
       "    </tr>\n",
       "    <tr>\n",
       "      <th>mean</th>\n",
       "      <td>0.987283</td>\n",
       "      <td>0.987433</td>\n",
       "      <td>0.980200</td>\n",
       "      <td>0.946950</td>\n",
       "      <td>0.983983</td>\n",
       "      <td>0.996433</td>\n",
       "    </tr>\n",
       "    <tr>\n",
       "      <th>std</th>\n",
       "      <td>0.001563</td>\n",
       "      <td>0.001202</td>\n",
       "      <td>0.001270</td>\n",
       "      <td>0.000687</td>\n",
       "      <td>0.001141</td>\n",
       "      <td>0.000828</td>\n",
       "    </tr>\n",
       "    <tr>\n",
       "      <th>min</th>\n",
       "      <td>0.984000</td>\n",
       "      <td>0.985500</td>\n",
       "      <td>0.977500</td>\n",
       "      <td>0.945500</td>\n",
       "      <td>0.982000</td>\n",
       "      <td>0.995000</td>\n",
       "    </tr>\n",
       "    <tr>\n",
       "      <th>25%</th>\n",
       "      <td>0.986500</td>\n",
       "      <td>0.986625</td>\n",
       "      <td>0.979625</td>\n",
       "      <td>0.946500</td>\n",
       "      <td>0.983500</td>\n",
       "      <td>0.996000</td>\n",
       "    </tr>\n",
       "    <tr>\n",
       "      <th>50%</th>\n",
       "      <td>0.987250</td>\n",
       "      <td>0.987250</td>\n",
       "      <td>0.980000</td>\n",
       "      <td>0.947000</td>\n",
       "      <td>0.984000</td>\n",
       "      <td>0.996500</td>\n",
       "    </tr>\n",
       "    <tr>\n",
       "      <th>75%</th>\n",
       "      <td>0.988000</td>\n",
       "      <td>0.988375</td>\n",
       "      <td>0.981000</td>\n",
       "      <td>0.947500</td>\n",
       "      <td>0.984500</td>\n",
       "      <td>0.997000</td>\n",
       "    </tr>\n",
       "    <tr>\n",
       "      <th>max</th>\n",
       "      <td>0.990500</td>\n",
       "      <td>0.990000</td>\n",
       "      <td>0.983500</td>\n",
       "      <td>0.948500</td>\n",
       "      <td>0.987000</td>\n",
       "      <td>0.997500</td>\n",
       "    </tr>\n",
       "  </tbody>\n",
       "</table>\n",
       "</div>"
      ],
      "text/plain": [
       "          Arvore  random_forest        knn  reg_logistica        svm  \\\n",
       "count  30.000000      30.000000  30.000000      30.000000  30.000000   \n",
       "mean    0.987283       0.987433   0.980200       0.946950   0.983983   \n",
       "std     0.001563       0.001202   0.001270       0.000687   0.001141   \n",
       "min     0.984000       0.985500   0.977500       0.945500   0.982000   \n",
       "25%     0.986500       0.986625   0.979625       0.946500   0.983500   \n",
       "50%     0.987250       0.987250   0.980000       0.947000   0.984000   \n",
       "75%     0.988000       0.988375   0.981000       0.947500   0.984500   \n",
       "max     0.990500       0.990000   0.983500       0.948500   0.987000   \n",
       "\n",
       "       redes_neurais  \n",
       "count      30.000000  \n",
       "mean        0.996433  \n",
       "std         0.000828  \n",
       "min         0.995000  \n",
       "25%         0.996000  \n",
       "50%         0.996500  \n",
       "75%         0.997000  \n",
       "max         0.997500  "
      ]
     },
     "execution_count": 50,
     "metadata": {},
     "output_type": "execute_result"
    }
   ],
   "source": [
    "resultados.describe()"
   ]
  },
  {
   "cell_type": "markdown",
   "metadata": {},
   "source": [
    "   Analisando as médias podemos chegar a conclusao que em primeiro lugar estao as redes neurais com 0.9964 e em segundo lugar o random_forest que esta muito proximo da arvore de decisao com 0.9874 e 0.9872. Depois o svm com 0.9839, knn com 0.9802 e regressao logistica com 0.9469. POdemos analisar os valores minimos e maximos para cada um dos algoritmos, por exemplo, as redes neurais com minimo de 0.9950 e max de 0.9975. Para o random forest e a arvore de decisao que possuem médias muitos próximas podemos olhar seus minimos e maximos que também são muito próximos. \n",
    "   \n",
    "   O cálculo do desvio padrão é bem interessante para analisarmos a variação do algoritmo em relação a média. Quanto menor o desvio padrão menor a variação em relação a media, e podemos utilizar isso para visualizar a consistencia do algoritmo. A rede neural por exemplo, possui um desvio padrão muito pequeno, sendo assim, um algoritmo que apresenta consistencia. A regressao logistica possui um desvio padrao muito baixo, também, porém, sua média é a menor em relação aos algoritmos. A arvore de decisão possui o maior desvio padrao sendo assim tendo uma maior variação em relação a media.\n",
    "   \n",
    "   Quando analisamos algoritmos de classificação buscamos algoritmos que tenham maior média (accuracy) e menor desvio padrao.\n",
    "   "
   ]
  },
  {
   "cell_type": "code",
   "execution_count": 55,
   "metadata": {},
   "outputs": [
    {
     "data": {
      "text/plain": [
       "Arvore           0.158308\n",
       "random_forest    0.121682\n",
       "knn              0.129601\n",
       "reg_logistica    0.072517\n",
       "svm              0.115937\n",
       "redes_neurais    0.083064\n",
       "dtype: float64"
      ]
     },
     "execution_count": 55,
     "metadata": {},
     "output_type": "execute_result"
    }
   ],
   "source": [
    "(resultados.std() / resultados.mean()) * 100  #coeficiente de variacao dos algoritmos (em porcentagem)"
   ]
  },
  {
   "cell_type": "markdown",
   "metadata": {},
   "source": [
    "### Tópicos vistos\n",
    "\n",
    "- Distribuição normal\n",
    "- Testes de Hipótese\n",
    "- teste de normalidade nos resultados\n",
    "- ANOVA\n",
    "- Melhor algoritmo com ANOVA e Tukey"
   ]
  },
  {
   "cell_type": "code",
   "execution_count": 56,
   "metadata": {},
   "outputs": [],
   "source": [
    "# teste de normalidade nos resultados com shapiro\n",
    "alpha = 0.05"
   ]
  },
  {
   "cell_type": "code",
   "execution_count": 58,
   "metadata": {},
   "outputs": [],
   "source": [
    "from scipy.stats import shapiro # retorna dois valores onde o 2o valor é o p valor\n"
   ]
  },
  {
   "cell_type": "code",
   "execution_count": 61,
   "metadata": {},
   "outputs": [
    {
     "data": {
      "text/plain": [
       "(ShapiroResult(statistic=0.972478985786438, pvalue=0.6089913845062256),\n",
       " ShapiroResult(statistic=0.9572495222091675, pvalue=0.2630428969860077),\n",
       " ShapiroResult(statistic=0.924409031867981, pvalue=0.03495445102453232),\n",
       " ShapiroResult(statistic=0.9370993375778198, pvalue=0.07600117474794388),\n",
       " ShapiroResult(statistic=0.96373051404953, pvalue=0.384358674287796),\n",
       " ShapiroResult(statistic=0.9006325602531433, pvalue=0.008703530766069889))"
      ]
     },
     "execution_count": 61,
     "metadata": {},
     "output_type": "execute_result"
    }
   ],
   "source": [
    "shapiro(resultados_arvore), shapiro(resultados_random_forest), shapiro(resultados_knn), shapiro(resultados_logistica), shapiro(resultados_svm), shapiro(resultados_redes_neurais)\n",
    "\n",
    "#para o knn e para as redes neurais temos p valor < 0.05, dessa forma, rejeitamos a hipótese nula (H0), assim, temos que esses algoritmos\n",
    "# nao seguem normalidade"
   ]
  },
  {
   "cell_type": "code",
   "execution_count": 62,
   "metadata": {},
   "outputs": [],
   "source": [
    "import seaborn as sns"
   ]
  },
  {
   "cell_type": "code",
   "execution_count": 64,
   "metadata": {},
   "outputs": [
    {
     "data": {
      "text/plain": [
       "<seaborn.axisgrid.FacetGrid at 0x53f4de85e0>"
      ]
     },
     "execution_count": 64,
     "metadata": {},
     "output_type": "execute_result"
    },
    {
     "data": {
      "image/png": "[encoded data removed]",
      "text/plain": [
       "<Figure size 360x360 with 1 Axes>"
      ]
     },
     "metadata": {
      "needs_background": "light"
     },
     "output_type": "display_data"
    }
   ],
   "source": [
    "sns.displot(resultados_arvore, kind = 'kde')"
   ]
  },
  {
   "cell_type": "code",
   "execution_count": 66,
   "metadata": {},
   "outputs": [
    {
     "data": {
      "text/plain": [
       "<seaborn.axisgrid.FacetGrid at 0x53f4dfa1f0>"
      ]
     },
     "execution_count": 66,
     "metadata": {},
     "output_type": "execute_result"
    },
    {
     "data": {
      "image/png": "[encoded data removed]",
      "text/plain": [
       "<Figure size 360x360 with 1 Axes>"
      ]
     },
     "metadata": {
      "needs_background": "light"
     },
     "output_type": "display_data"
    }
   ],
   "source": [
    "sns.displot(resultados_random_forest, kind = 'kde')"
   ]
  },
  {
   "cell_type": "code",
   "execution_count": 67,
   "metadata": {},
   "outputs": [
    {
     "data": {
      "text/plain": [
       "<seaborn.axisgrid.FacetGrid at 0x53f4fb4af0>"
      ]
     },
     "execution_count": 67,
     "metadata": {},
     "output_type": "execute_result"
    },
    {
     "data": {
      "image/png": "[encoded data removed]",
      "text/plain": [
       "<Figure size 360x360 with 1 Axes>"
      ]
     },
     "metadata": {
      "needs_background": "light"
     },
     "output_type": "display_data"
    }
   ],
   "source": [
    "sns.displot(resultados_knn, kind = 'kde')"
   ]
  },
  {
   "cell_type": "code",
   "execution_count": 69,
   "metadata": {},
   "outputs": [
    {
     "data": {
      "text/plain": [
       "<seaborn.axisgrid.FacetGrid at 0x53f4facf10>"
      ]
     },
     "execution_count": 69,
     "metadata": {},
     "output_type": "execute_result"
    },
    {
     "data": {
      "image/png": "[encoded data removed]",
      "text/plain": [
       "<Figure size 360x360 with 1 Axes>"
      ]
     },
     "metadata": {
      "needs_background": "light"
     },
     "output_type": "display_data"
    }
   ],
   "source": [
    "sns.displot(resultados_logistica, kind = 'kde')"
   ]
  },
  {
   "cell_type": "code",
   "execution_count": 70,
   "metadata": {},
   "outputs": [
    {
     "data": {
      "text/plain": [
       "<seaborn.axisgrid.FacetGrid at 0x53f4ef70d0>"
      ]
     },
     "execution_count": 70,
     "metadata": {},
     "output_type": "execute_result"
    },
    {
     "data": {
      "image/png": "[encoded data removed]",
      "text/plain": [
       "<Figure size 360x360 with 1 Axes>"
      ]
     },
     "metadata": {
      "needs_background": "light"
     },
     "output_type": "display_data"
    }
   ],
   "source": [
    "sns.displot(resultados_svm, kind = 'kde')"
   ]
  },
  {
   "cell_type": "code",
   "execution_count": 71,
   "metadata": {},
   "outputs": [
    {
     "data": {
      "text/plain": [
       "<seaborn.axisgrid.FacetGrid at 0x53f6077e20>"
      ]
     },
     "execution_count": 71,
     "metadata": {},
     "output_type": "execute_result"
    },
    {
     "data": {
      "image/png": "[encoded data removed]",
      "text/plain": [
       "<Figure size 360x360 with 1 Axes>"
      ]
     },
     "metadata": {
      "needs_background": "light"
     },
     "output_type": "display_data"
    }
   ],
   "source": [
    "sns.displot(resultados_redes_neurais, kind = 'kde')"
   ]
  },
  {
   "cell_type": "markdown",
   "metadata": {},
   "source": [
    "### Teste de Hipótese com ANOVA e Tukey"
   ]
  },
  {
   "cell_type": "markdown",
   "metadata": {},
   "source": [
    "Apesar de dois dos algoritmos não apontarem distribuições normais, através dos gráficos podemos ver que eles apesar de possuirem\n",
    "uma distorção do gráfico, ainda sim, possuem o formato da distribuição normal. Por tanto, utilizaremos a ANOVA para todos os registros"
   ]
  },
  {
   "cell_type": "code",
   "execution_count": 73,
   "metadata": {},
   "outputs": [],
   "source": [
    "from scipy.stats import f_oneway"
   ]
  },
  {
   "cell_type": "code",
   "execution_count": 76,
   "metadata": {},
   "outputs": [
    {
     "data": {
      "text/plain": [
       "5.359821836784022e-197"
      ]
     },
     "execution_count": 76,
     "metadata": {},
     "output_type": "execute_result"
    }
   ],
   "source": [
    "_,p = f_oneway(resultados_arvore, resultados_random_forest, resultados_knn, resultados_logistica, resultados_svm, resultados_redes_neurais)\n",
    "p  #valor muito pequeno, indica que vamos rejeitar a hipótese nula"
   ]
  },
  {
   "cell_type": "code",
   "execution_count": 77,
   "metadata": {},
   "outputs": [
    {
     "name": "stdout",
     "output_type": "stream",
     "text": [
      "Hipótese nula rejeitada. Dados são diferentes\n"
     ]
    }
   ],
   "source": [
    "alpha = 0.05\n",
    "if p <= alpha:\n",
    "    print('Hipótese nula rejeitada. Dados são diferentes')\n",
    "else:\n",
    "    print('Hipótese alternativa rejeitada. Não existe diferença estatistica entre os dados')"
   ]
  },
  {
   "cell_type": "code",
   "execution_count": 78,
   "metadata": {},
   "outputs": [],
   "source": [
    "resultados_algoritmos = {'accuracy': np.concatenate([resultados_arvore, resultados_random_forest, resultados_knn, resultados_logistica, resultados_svm, resultados_redes_neurais]),\n",
    "                        'algoritmo': ['arvore', 'arvore', 'arvore', 'arvore', 'arvore', 'arvore', 'arvore', 'arvore', 'arvore', 'arvore', 'arvore', 'arvore', 'arvore', 'arvore', 'arvore', 'arvore', 'arvore', 'arvore', 'arvore', 'arvore', 'arvore', 'arvore', 'arvore', 'arvore', 'arvore', 'arvore', 'arvore', 'arvore', 'arvore', 'arvore',\n",
    "                        'random_forest', 'random_forest', 'random_forest', 'random_forest', 'random_forest', 'random_forest', 'random_forest', 'random_forest', 'random_forest', 'random_forest', 'random_forest', 'random_forest', 'random_forest', 'random_forest', 'random_forest', 'random_forest', 'random_forest', 'random_forest', 'random_forest', 'random_forest', 'random_forest', 'random_forest', 'random_forest', 'random_forest', 'random_forest', 'random_forest', 'random_forest', 'random_forest', 'random_forest', 'random_forest',\n",
    "                        'knn', 'knn', 'knn', 'knn', 'knn', 'knn', 'knn', 'knn', 'knn', 'knn', 'knn', 'knn', 'knn', 'knn', 'knn', 'knn', 'knn', 'knn', 'knn', 'knn', 'knn', 'knn', 'knn', 'knn', 'knn', 'knn', 'knn', 'knn', 'knn', 'knn',\n",
    "                        'logistica', 'logistica', 'logistica', 'logistica', 'logistica', 'logistica', 'logistica', 'logistica', 'logistica', 'logistica', 'logistica', 'logistica', 'logistica', 'logistica', 'logistica', 'logistica', 'logistica', 'logistica', 'logistica', 'logistica', 'logistica', 'logistica', 'logistica', 'logistica', 'logistica', 'logistica', 'logistica', 'logistica', 'logistica', 'logistica',\n",
    "                        'svm', 'svm', 'svm', 'svm', 'svm', 'svm', 'svm', 'svm', 'svm', 'svm', 'svm', 'svm', 'svm', 'svm', 'svm', 'svm', 'svm', 'svm', 'svm', 'svm', 'svm', 'svm', 'svm', 'svm', 'svm', 'svm', 'svm', 'svm', 'svm', 'svm',\n",
    "                        'redes_neurais', 'redes_neurais', 'redes_neurais', 'redes_neurais', 'redes_neurais', 'redes_neurais', 'redes_neurais', 'redes_neurais', 'redes_neurais', 'redes_neurais', 'redes_neurais', 'redes_neurais', 'redes_neurais', 'redes_neurais', 'redes_neurais', 'redes_neurais', 'redes_neurais', 'redes_neurais', 'redes_neurais', 'redes_neurais', 'redes_neurais', 'redes_neurais', 'redes_neurais', 'redes_neurais', 'redes_neurais', 'redes_neurais', 'redes_neurais', 'redes_neurais', 'redes_neurais', 'redes_neurais']}"
   ]
  },
  {
   "cell_type": "code",
   "execution_count": 80,
   "metadata": {},
   "outputs": [],
   "source": [
    "resultados_df = pd.DataFrame(resultados_algoritmos)"
   ]
  },
  {
   "cell_type": "code",
   "execution_count": 81,
   "metadata": {},
   "outputs": [
    {
     "data": {
      "text/html": [
       "<div>\n",
       "<style scoped>\n",
       "    .dataframe tbody tr th:only-of-type {\n",
       "        vertical-align: middle;\n",
       "    }\n",
       "\n",
       "    .dataframe tbody tr th {\n",
       "        vertical-align: top;\n",
       "    }\n",
       "\n",
       "    .dataframe thead th {\n",
       "        text-align: right;\n",
       "    }\n",
       "</style>\n",
       "<table border=\"1\" class=\"dataframe\">\n",
       "  <thead>\n",
       "    <tr style=\"text-align: right;\">\n",
       "      <th></th>\n",
       "      <th>accuracy</th>\n",
       "      <th>algoritmo</th>\n",
       "    </tr>\n",
       "  </thead>\n",
       "  <tbody>\n",
       "    <tr>\n",
       "      <th>0</th>\n",
       "      <td>0.9865</td>\n",
       "      <td>arvore</td>\n",
       "    </tr>\n",
       "    <tr>\n",
       "      <th>1</th>\n",
       "      <td>0.9855</td>\n",
       "      <td>arvore</td>\n",
       "    </tr>\n",
       "    <tr>\n",
       "      <th>2</th>\n",
       "      <td>0.9905</td>\n",
       "      <td>arvore</td>\n",
       "    </tr>\n",
       "    <tr>\n",
       "      <th>3</th>\n",
       "      <td>0.9875</td>\n",
       "      <td>arvore</td>\n",
       "    </tr>\n",
       "    <tr>\n",
       "      <th>4</th>\n",
       "      <td>0.9885</td>\n",
       "      <td>arvore</td>\n",
       "    </tr>\n",
       "    <tr>\n",
       "      <th>...</th>\n",
       "      <td>...</td>\n",
       "      <td>...</td>\n",
       "    </tr>\n",
       "    <tr>\n",
       "      <th>175</th>\n",
       "      <td>0.9950</td>\n",
       "      <td>redes_neurais</td>\n",
       "    </tr>\n",
       "    <tr>\n",
       "      <th>176</th>\n",
       "      <td>0.9965</td>\n",
       "      <td>redes_neurais</td>\n",
       "    </tr>\n",
       "    <tr>\n",
       "      <th>177</th>\n",
       "      <td>0.9965</td>\n",
       "      <td>redes_neurais</td>\n",
       "    </tr>\n",
       "    <tr>\n",
       "      <th>178</th>\n",
       "      <td>0.9965</td>\n",
       "      <td>redes_neurais</td>\n",
       "    </tr>\n",
       "    <tr>\n",
       "      <th>179</th>\n",
       "      <td>0.9965</td>\n",
       "      <td>redes_neurais</td>\n",
       "    </tr>\n",
       "  </tbody>\n",
       "</table>\n",
       "<p>180 rows × 2 columns</p>\n",
       "</div>"
      ],
      "text/plain": [
       "     accuracy      algoritmo\n",
       "0      0.9865         arvore\n",
       "1      0.9855         arvore\n",
       "2      0.9905         arvore\n",
       "3      0.9875         arvore\n",
       "4      0.9885         arvore\n",
       "..        ...            ...\n",
       "175    0.9950  redes_neurais\n",
       "176    0.9965  redes_neurais\n",
       "177    0.9965  redes_neurais\n",
       "178    0.9965  redes_neurais\n",
       "179    0.9965  redes_neurais\n",
       "\n",
       "[180 rows x 2 columns]"
      ]
     },
     "execution_count": 81,
     "metadata": {},
     "output_type": "execute_result"
    }
   ],
   "source": [
    "resultados_df"
   ]
  },
  {
   "cell_type": "code",
   "execution_count": 83,
   "metadata": {},
   "outputs": [],
   "source": [
    "from statsmodels.stats.multicomp import MultiComparison"
   ]
  },
  {
   "cell_type": "code",
   "execution_count": 84,
   "metadata": {},
   "outputs": [],
   "source": [
    "comparacao = MultiComparison(resultados_df['accuracy'], resultados_df['algoritmo'])"
   ]
  },
  {
   "cell_type": "code",
   "execution_count": 85,
   "metadata": {},
   "outputs": [
    {
     "name": "stdout",
     "output_type": "stream",
     "text": [
      "       Multiple Comparison of Means - Tukey HSD, FWER=0.05       \n",
      "=================================================================\n",
      "    group1        group2    meandiff p-adj  lower   upper  reject\n",
      "-----------------------------------------------------------------\n",
      "       arvore           knn  -0.0071 0.001 -0.0079 -0.0062   True\n",
      "       arvore     logistica  -0.0403 0.001 -0.0412 -0.0395   True\n",
      "       arvore random_forest   0.0001   0.9 -0.0007   0.001  False\n",
      "       arvore redes_neurais   0.0092 0.001  0.0083    0.01   True\n",
      "       arvore           svm  -0.0033 0.001 -0.0042 -0.0024   True\n",
      "          knn     logistica  -0.0333 0.001 -0.0341 -0.0324   True\n",
      "          knn random_forest   0.0072 0.001  0.0064  0.0081   True\n",
      "          knn redes_neurais   0.0162 0.001  0.0154  0.0171   True\n",
      "          knn           svm   0.0038 0.001  0.0029  0.0046   True\n",
      "    logistica random_forest   0.0405 0.001  0.0396  0.0413   True\n",
      "    logistica redes_neurais   0.0495 0.001  0.0486  0.0503   True\n",
      "    logistica           svm    0.037 0.001  0.0362  0.0379   True\n",
      "random_forest redes_neurais    0.009 0.001  0.0081  0.0099   True\n",
      "random_forest           svm  -0.0035 0.001 -0.0043 -0.0026   True\n",
      "redes_neurais           svm  -0.0125 0.001 -0.0133 -0.0116   True\n",
      "-----------------------------------------------------------------\n"
     ]
    }
   ],
   "source": [
    "teste_estatistico = comparacao.tukeyhsd()\n",
    "print(teste_estatistico)"
   ]
  },
  {
   "cell_type": "code",
   "execution_count": 87,
   "metadata": {},
   "outputs": [
    {
     "data": {
      "text/plain": [
       "Arvore           0.987283\n",
       "random_forest    0.987433\n",
       "knn              0.980200\n",
       "reg_logistica    0.946950\n",
       "svm              0.983983\n",
       "redes_neurais    0.996433\n",
       "dtype: float64"
      ]
     },
     "execution_count": 87,
     "metadata": {},
     "output_type": "execute_result"
    }
   ],
   "source": [
    "#FWER é o valor de alpha que é 0.05 e o p-valor que é o p-adj\n",
    "# percebemos que todos os algoritmos são diferentes com exceção de arvores quando comparadas ao random forest\n",
    "\n",
    "resultados.mean()"
   ]
  },
  {
   "cell_type": "markdown",
   "metadata": {},
   "source": [
    "Por exrmplo, comparando arvore e redes neurais vemos que a hipótese nula foi rejeitada com p-valor de 0.001 e isso indica que o resultado entre arvore e redes neurais possuem diferença estatisticamente significativa. Para arvores temos 0.9872 e para redes neurais 0.9964, e assim, podemos provar que o algoritmo de redes neurais é estatiscamente superior ao algoritmo de arvore que ficou entre os melhores algoritmos. Dessa forma, podemos utilizar a rede neural como o  melhor algoritmo pois é estatisticamente superior a todos os outros algoritmos. \n",
    "\n",
    "OBS: para resultados false temos que os algoritmos nao sao estatiscamente diferentes, ou , que os resultados de um algoritmo nao sao estatisticamente superiores ao outro."
   ]
  },
  {
   "cell_type": "code",
   "execution_count": 89,
   "metadata": {},
   "outputs": [
    {
     "data": {
      "image/png": "[encoded data removed]",
      "text/plain": [
       "<Figure size 720x432 with 1 Axes>"
      ]
     },
     "metadata": {
      "needs_background": "light"
     },
     "output_type": "display_data"
    }
   ],
   "source": [
    "teste_estatistico.plot_simultaneous();"
   ]
  },
  {
   "cell_type": "markdown",
   "metadata": {},
   "source": [
    "### Salvar um classificador ja treinado"
   ]
  },
  {
   "cell_type": "code",
   "execution_count": 91,
   "metadata": {},
   "outputs": [],
   "source": [
    "# como iremos trabalhar com combinação e rejeicao de classificadores logo após, faremos a seleção dos 3 melhores algoritmos\n",
    "from sklearn.neural_network import MLPClassifier\n",
    "from sklearn.svm import SVC\n",
    "from sklearn.tree import DecisionTreeClassifier\n",
    "from sklearn.ensemble import RandomForestClassifier"
   ]
  },
  {
   "cell_type": "code",
   "execution_count": 92,
   "metadata": {},
   "outputs": [
    {
     "data": {
      "text/plain": [
       "MLPClassifier(batch_size=10)"
      ]
     },
     "execution_count": 92,
     "metadata": {},
     "output_type": "execute_result"
    }
   ],
   "source": [
    "classificador_redes_neurais = MLPClassifier(activation = 'relu', batch_size = 10, solver = 'adam')\n",
    "classificador_redes_neurais.fit(x_credit, y_credit)"
   ]
  },
  {
   "cell_type": "code",
   "execution_count": 109,
   "metadata": {},
   "outputs": [
    {
     "data": {
      "text/plain": [
       "SVC(C=1.5, probability=True)"
      ]
     },
     "execution_count": 109,
     "metadata": {},
     "output_type": "execute_result"
    }
   ],
   "source": [
    "classificador_svm = SVC(C = 1.5, kernel = 'rbf', tol = 0.001, probability=True)\n",
    "classificador_svm.fit(x_credit, y_credit)"
   ]
  },
  {
   "cell_type": "code",
   "execution_count": 94,
   "metadata": {},
   "outputs": [
    {
     "data": {
      "text/plain": [
       "DecisionTreeClassifier(criterion='entropy', min_samples_split=5)"
      ]
     },
     "execution_count": 94,
     "metadata": {},
     "output_type": "execute_result"
    }
   ],
   "source": [
    "classificador_arvore = DecisionTreeClassifier(criterion='entropy', min_samples_leaf=1, min_samples_split=5, splitter = 'best')\n",
    "classificador_arvore.fit(x_credit, y_credit)"
   ]
  },
  {
   "cell_type": "code",
   "execution_count": 95,
   "metadata": {},
   "outputs": [
    {
     "data": {
      "text/plain": [
       "RandomForestClassifier(criterion='entropy', n_estimators=150)"
      ]
     },
     "execution_count": 95,
     "metadata": {},
     "output_type": "execute_result"
    }
   ],
   "source": [
    "classificador_random_forest = RandomForestClassifier(criterion = 'entropy', min_samples_leaf = 1, min_samples_split = 2, n_estimators = 150)\n",
    "classificador_random_forest.fit(x_credit, y_credit)"
   ]
  },
  {
   "cell_type": "code",
   "execution_count": 110,
   "metadata": {},
   "outputs": [],
   "source": [
    "import pickle\n",
    "pickle.dump(classificador_redes_neurais, open('redes_neurais_finalizado.sav','wb'))\n",
    "pickle.dump(classificador_svm, open('svm_finalizado.sav','wb'))\n",
    "pickle.dump(classificador_arvore, open('arvore_finalizado.sav','wb'))\n",
    "pickle.dump(classificador_random_forest, open('random_forest_finalizado.sav','wb'))"
   ]
  },
  {
   "cell_type": "markdown",
   "metadata": {},
   "source": [
    "### Carregar um classificador já treinado"
   ]
  },
  {
   "cell_type": "code",
   "execution_count": 98,
   "metadata": {},
   "outputs": [],
   "source": [
    "rede_neural = pickle.load(open('redes_neurais_finalizado.sav','rb'))\n",
    "arvore = pickle.load(open('arvore_finalizado.sav','rb'))\n",
    "svm = pickle.load(open('svm_finalizado.sav','rb'))\n",
    "random_forest = pickle.load(open('random_forest_finalizado.sav','rb'))"
   ]
  },
  {
   "cell_type": "code",
   "execution_count": 103,
   "metadata": {},
   "outputs": [
    {
     "data": {
      "text/plain": [
       "(array([-1.3754462 ,  0.50631   ,  0.10980934]), (3,))"
      ]
     },
     "execution_count": 103,
     "metadata": {},
     "output_type": "execute_result"
    }
   ],
   "source": [
    "novo_registro = x_credit[0]\n",
    "novo_registro, novo_registro.shape"
   ]
  },
  {
   "cell_type": "code",
   "execution_count": 104,
   "metadata": {},
   "outputs": [
    {
     "data": {
      "text/plain": [
       "(1, 3)"
      ]
     },
     "execution_count": 104,
     "metadata": {},
     "output_type": "execute_result"
    }
   ],
   "source": [
    "novo_registro = novo_registro.reshape(1,-1) \n",
    "novo_registro.shape  #formato de matriz"
   ]
  },
  {
   "cell_type": "code",
   "execution_count": 105,
   "metadata": {},
   "outputs": [
    {
     "data": {
      "text/plain": [
       "array([0], dtype=int64)"
      ]
     },
     "execution_count": 105,
     "metadata": {},
     "output_type": "execute_result"
    }
   ],
   "source": [
    "rede_neural.predict(novo_registro) # 0 = vai pagar o emprestimo"
   ]
  },
  {
   "cell_type": "code",
   "execution_count": 106,
   "metadata": {},
   "outputs": [
    {
     "data": {
      "text/plain": [
       "array([0], dtype=int64)"
      ]
     },
     "execution_count": 106,
     "metadata": {},
     "output_type": "execute_result"
    }
   ],
   "source": [
    "arvore.predict(novo_registro)"
   ]
  },
  {
   "cell_type": "code",
   "execution_count": 107,
   "metadata": {},
   "outputs": [
    {
     "data": {
      "text/plain": [
       "array([0], dtype=int64)"
      ]
     },
     "execution_count": 107,
     "metadata": {},
     "output_type": "execute_result"
    }
   ],
   "source": [
    "svm.predict(novo_registro)"
   ]
  },
  {
   "cell_type": "code",
   "execution_count": 108,
   "metadata": {},
   "outputs": [
    {
     "data": {
      "text/plain": [
       "array([0], dtype=int64)"
      ]
     },
     "execution_count": 108,
     "metadata": {},
     "output_type": "execute_result"
    }
   ],
   "source": [
    "random_forest.predict(novo_registro)"
   ]
  }
 ],
 "metadata": {
  "kernelspec": {
   "display_name": "Python 3",
   "language": "python",
   "name": "python3"
  },
  "language_info": {
   "codemirror_mode": {
    "name": "ipython",
    "version": 3
   },
   "file_extension": ".py",
   "mimetype": "text/x-python",
   "name": "python",
   "nbconvert_exporter": "python",
   "pygments_lexer": "ipython3",
   "version": "3.8.5"
  }
 },
 "nbformat": 4,
 "nbformat_minor": 4
}
