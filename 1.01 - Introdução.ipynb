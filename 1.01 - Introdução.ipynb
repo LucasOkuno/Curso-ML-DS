{
 "cells": [
  {
   "cell_type": "markdown",
   "metadata": {},
   "source": [
    "### Terminologias\n",
    "\n",
    "- **Inteligência artificial**: Área responsável pelo desenvolvimento de sistemas que simulem a capacidade humana de resolver problemas\n",
    "- **Machine Learning**: Métodos matemáticos para treinar algoritmos\n",
    "- **Data Mining**: Extrair conhecimentos de base de dados usando métodos de Machine Learning\n",
    "- **Redes Neurais**: Um tipo de aprendizado de máquina\n",
    "- **Deep Learning**: Redes neurais com muitas camadas. Mais dados e processadores mais potentes.\n",
    "- **Big Data**: Grande volume de dados\n",
    "- **Ciência de Dados**: Exploração e análise de Dados/ Ciência da Computação + Estatística/ Machine Learning\n"
   ]
  },
  {
   "cell_type": "markdown",
   "metadata": {},
   "source": [
    "### Aprendizagem de Máquina\n",
    "\n",
    "**Métodos Preditivos**\n",
    "- Classificação\n",
    "    - Risco de Crédito\n",
    "    - Filtros de SPAM\n",
    "    - Reconhecimento de Face\n",
    "    - Previsão de Doenças\n",
    "- Regressão\n",
    "    - Um modelo simples de machine learning para encontrar a reta que melhor explica a relação entre as features e um target contínuo.\n",
    "\n",
    "**Métodos Descritivos**\n",
    "- __Associação__\n",
    "    - Fraudas e Cerveja\n",
    "    - Planejar catálogos\n",
    "    - Controle de evasão nas universidades \n",
    "- __Agrupamentos__\n",
    "    - Encontrar grupos de clientes que irão comprar um produto\n",
    "    - Agrupamento de produtos similares\n",
    "- __Detecção de Desvios (Outliers)__\n",
    "    - Fraude em cartão de crédito\n",
    "    - Invasão de redes\n",
    "    - Uso de energia elétrica e água\n",
    "    - Desempenho de atletas (Doping)\n",
    "- __Padrões Sequenciais__\n",
    "- __Sumarização__\n",
    "\n",
    " "
   ]
  },
  {
   "cell_type": "markdown",
   "metadata": {},
   "source": [
    "**APRENDIZADO DE MÀQUINA**\n",
    "- __SUPERVISIONADO__\n",
    "    - CLASSIFICAÇÃO\n",
    "    - REGRESSÃO\n",
    "- __NÃO SUPERVISIONADO__\n",
    "    - ASSOCIAÇÃO\n",
    "    - AGRUPAMENTOS\n",
    "    - DETECÇÃO DE DESVIOS\n",
    "    - PADROES SEQUENCIAIS\n",
    "    - SUMARIZAÇÃO\n",
    "- __POR REFORÇO__"
   ]
  },
  {
   "cell_type": "markdown",
   "metadata": {},
   "source": [
    "__Tipos de variáveis__\n",
    "\n",
    "- Numéricas:\n",
    "    - Discreta: Contagens/ Valores inteiros finitos\n",
    "    - Contínua: Números Reais (float)\n",
    "- Categóricas:\n",
    "    - Nominal: dados não mensuráveis, sem ordenação\n",
    "    - Ordinal: Categorizado sob uma ordenação"
   ]
  },
  {
   "cell_type": "code",
   "execution_count": null,
   "metadata": {},
   "outputs": [],
   "source": []
  }
 ],
 "metadata": {
  "kernelspec": {
   "display_name": "Python 3",
   "language": "python",
   "name": "python3"
  },
  "language_info": {
   "codemirror_mode": {
    "name": "ipython",
    "version": 3
   },
   "file_extension": ".py",
   "mimetype": "text/x-python",
   "name": "python",
   "nbconvert_exporter": "python",
   "pygments_lexer": "ipython3",
   "version": "3.8.5"
  }
 },
 "nbformat": 4,
 "nbformat_minor": 4
}
