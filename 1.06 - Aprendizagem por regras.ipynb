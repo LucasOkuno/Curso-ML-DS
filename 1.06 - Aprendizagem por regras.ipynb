{
 "cells": [
  {
   "cell_type": "markdown",
   "metadata": {},
   "source": [
    "# Algortimos de Regra:\n",
    "- # Algoritmo OneR (r -> rules)\n",
    "\n",
    "    - Testar coisas simples primeiro\n",
    "    - Um atributo faz todo o trabalho (O mais importante assim como na arvore de decisao: escolhe o atributo com menor erro )\n",
    "    - Gera a regra baseada em apenas um atributo\n",
    "    \n",
    "- # Algoritmo PRISM \n",
    "    - tenta gerar uma regra baseada em um grupo da variável resposta. Exemplo: se temos risco baixo, moderado e alto, tenta encontrar uma regra para cada um dos três riscos\n",
    "    \n",
    " - # Árvores x Regras\n",
    "     - Compreensibilidade dos dois algoritmos\n",
    "     - Necessário pouco espaçõ de armazenamento\n",
    "     - Algoritmo de Regras são mais lentas que o de Árvores\n",
    "     - Em geral, regras não apresentam melhores resultados do que árvores de decisão\n",
    "     - Algoritmos de regras não é mais tão utilizado, pois existem outros que tendem a entregar resultados melhores.\n",
    "     "
   ]
  },
  {
   "cell_type": "code",
   "execution_count": 8,
   "metadata": {},
   "outputs": [
    {
     "name": "stderr",
     "output_type": "stream",
     "text": [
      "ERROR: Could not install packages due to an EnvironmentError: [WinError 5] Acesso negado: 'c:\\\\programdata\\\\anaconda3\\\\lib\\\\site-packages\\\\scikit_learn-0.23.2.dist-info\\\\COPYING'\n",
      "Consider using the `--user` option or check the permissions.\n",
      "\n"
     ]
    },
    {
     "name": "stdout",
     "output_type": "stream",
     "text": [
      "Collecting Orange3\n",
      "  Using cached Orange3-3.33.0-cp38-cp38-win_amd64.whl (27.5 MB)\n",
      "Requirement already satisfied: pip>=18.0 in c:\\programdata\\anaconda3\\lib\\site-packages (from Orange3) (20.2.4)\n",
      "Collecting scikit-learn>=1.0.1\n",
      "  Using cached scikit_learn-1.1.3-cp38-cp38-win_amd64.whl (7.5 MB)\n",
      "Requirement already satisfied: matplotlib>=3.2.0 in c:\\programdata\\anaconda3\\lib\\site-packages (from Orange3) (3.3.2)\n",
      "Requirement already satisfied: scipy>=1.3.1 in c:\\programdata\\anaconda3\\lib\\site-packages (from Orange3) (1.5.2)\n",
      "Collecting pygments>=2.8.0\n",
      "  Using cached Pygments-2.13.0-py3-none-any.whl (1.1 MB)\n",
      "Requirement already satisfied: keyring in c:\\programdata\\anaconda3\\lib\\site-packages (from Orange3) (21.4.0)\n",
      "Collecting baycomp>=1.0.2\n",
      "  Using cached baycomp-1.0.2-py3-none-any.whl (17 kB)\n",
      "Collecting PyQtWebEngine>=5.12\n",
      "  Using cached PyQtWebEngine-5.15.6-cp37-abi3-win_amd64.whl (182 kB)\n",
      "Requirement already satisfied: chardet>=3.0.2 in c:\\programdata\\anaconda3\\lib\\site-packages (from Orange3) (3.0.4)\n",
      "Requirement already satisfied: qtconsole>=4.7.2 in c:\\programdata\\anaconda3\\lib\\site-packages (from Orange3) (4.7.7)\n",
      "Requirement already satisfied: setuptools>=41.0.0 in c:\\programdata\\anaconda3\\lib\\site-packages (from Orange3) (50.3.1.post20201107)\n",
      "Collecting bottleneck>=1.3.4\n",
      "  Using cached Bottleneck-1.3.5-cp38-cp38-win_amd64.whl (109 kB)\n",
      "Requirement already satisfied: pyqtgraph!=0.12.4,>=0.12.2 in c:\\programdata\\anaconda3\\lib\\site-packages (from Orange3) (0.13.1)\n",
      "Collecting openTSNE>=0.6.1\n",
      "  Using cached openTSNE-0.6.2-cp38-cp38-win_amd64.whl (388 kB)\n",
      "Requirement already satisfied: numpy>=1.17.3 in c:\\programdata\\anaconda3\\lib\\site-packages (from Orange3) (1.19.2)\n",
      "Collecting PyQt5!=5.15.1,>=5.12\n",
      "  Using cached PyQt5-5.15.7-cp37-abi3-win_amd64.whl (6.8 MB)\n",
      "Processing c:\\users\\hélio\\appdata\\local\\pip\\cache\\wheels\\af\\40\\91\\ef3635f7d3ddbd889b5af9f1ac22b8d30c48d6f744cd74a6d1\\python_louvain-0.16-py3-none-any.whl\n",
      "Requirement already satisfied: networkx in c:\\programdata\\anaconda3\\lib\\site-packages (from Orange3) (2.5)\n",
      "Collecting orange-widget-base>=4.18.0\n",
      "  Using cached orange_widget_base-4.19.0-py3-none-any.whl (257 kB)\n",
      "Collecting httpx>=0.21.0\n",
      "  Using cached httpx-0.23.1-py3-none-any.whl (84 kB)\n",
      "Collecting pandas!=1.5.0,>=1.3.0\n",
      "  Using cached pandas-1.5.2-cp38-cp38-win_amd64.whl (11.0 MB)\n",
      "Requirement already satisfied: pyyaml in c:\\programdata\\anaconda3\\lib\\site-packages (from Orange3) (5.3.1)\n",
      "Collecting keyrings.alt\n",
      "  Using cached keyrings.alt-4.2.0-py3-none-any.whl (20 kB)\n",
      "Collecting AnyQt>=0.1.0\n",
      "  Using cached AnyQt-0.2.0-py3-none-any.whl (56 kB)\n",
      "Requirement already satisfied: requests in c:\\programdata\\anaconda3\\lib\\site-packages (from Orange3) (2.24.0)\n",
      "Requirement already satisfied: xlsxwriter in c:\\programdata\\anaconda3\\lib\\site-packages (from Orange3) (1.3.7)\n",
      "Processing c:\\users\\hélio\\appdata\\local\\pip\\cache\\wheels\\84\\4b\\a4\\233da5e4477309b7a6e38f3e48511005fcfd1e4a2a8c4be34f\\serverfiles-0.3.1-py3-none-any.whl\n",
      "Collecting orange-canvas-core<0.2a,>=0.1.27\n",
      "  Using cached orange_canvas_core-0.1.29-py3-none-any.whl (499 kB)\n",
      "Requirement already satisfied: joblib>=0.11 in c:\\programdata\\anaconda3\\lib\\site-packages (from Orange3) (0.17.0)\n",
      "Requirement already satisfied: openpyxl in c:\\programdata\\anaconda3\\lib\\site-packages (from Orange3) (3.0.5)\n",
      "Requirement already satisfied: xlrd>=1.2.0 in c:\\programdata\\anaconda3\\lib\\site-packages (from Orange3) (1.2.0)\n",
      "Requirement already satisfied: threadpoolctl>=2.0.0 in c:\\programdata\\anaconda3\\lib\\site-packages (from scikit-learn>=1.0.1->Orange3) (2.1.0)\n",
      "Requirement already satisfied: pillow>=6.2.0 in c:\\programdata\\anaconda3\\lib\\site-packages (from matplotlib>=3.2.0->Orange3) (8.0.1)\n",
      "Requirement already satisfied: python-dateutil>=2.1 in c:\\programdata\\anaconda3\\lib\\site-packages (from matplotlib>=3.2.0->Orange3) (2.8.1)\n",
      "Requirement already satisfied: pyparsing!=2.0.4,!=2.1.2,!=2.1.6,>=2.0.3 in c:\\programdata\\anaconda3\\lib\\site-packages (from matplotlib>=3.2.0->Orange3) (2.4.7)\n",
      "Requirement already satisfied: certifi>=2020.06.20 in c:\\programdata\\anaconda3\\lib\\site-packages (from matplotlib>=3.2.0->Orange3) (2020.6.20)\n",
      "Requirement already satisfied: kiwisolver>=1.0.1 in c:\\programdata\\anaconda3\\lib\\site-packages (from matplotlib>=3.2.0->Orange3) (1.3.0)\n",
      "Requirement already satisfied: cycler>=0.10 in c:\\programdata\\anaconda3\\lib\\site-packages (from matplotlib>=3.2.0->Orange3) (0.10.0)\n",
      "Requirement already satisfied: pywin32-ctypes!=0.1.0,!=0.1.1; sys_platform == \"win32\" in c:\\programdata\\anaconda3\\lib\\site-packages (from keyring->Orange3) (0.2.0)\n",
      "Collecting PyQt5-sip<13,>=12.11\n",
      "  Using cached PyQt5_sip-12.11.0-cp38-cp38-win_amd64.whl (78 kB)\n",
      "Collecting PyQtWebEngine-Qt5>=5.15.0\n",
      "  Using cached PyQtWebEngine_Qt5-5.15.2-py3-none-win_amd64.whl (60.0 MB)\n",
      "Requirement already satisfied: qtpy in c:\\programdata\\anaconda3\\lib\\site-packages (from qtconsole>=4.7.2->Orange3) (1.9.0)\n",
      "Requirement already satisfied: pyzmq>=17.1 in c:\\programdata\\anaconda3\\lib\\site-packages (from qtconsole>=4.7.2->Orange3) (19.0.2)\n",
      "Requirement already satisfied: jupyter-core in c:\\programdata\\anaconda3\\lib\\site-packages (from qtconsole>=4.7.2->Orange3) (4.6.3)\n",
      "Requirement already satisfied: ipython-genutils in c:\\programdata\\anaconda3\\lib\\site-packages (from qtconsole>=4.7.2->Orange3) (0.2.0)\n",
      "Requirement already satisfied: traitlets in c:\\programdata\\anaconda3\\lib\\site-packages (from qtconsole>=4.7.2->Orange3) (5.0.5)\n",
      "Requirement already satisfied: ipykernel>=4.1 in c:\\programdata\\anaconda3\\lib\\site-packages (from qtconsole>=4.7.2->Orange3) (5.3.4)\n",
      "Requirement already satisfied: jupyter-client>=4.1 in c:\\programdata\\anaconda3\\lib\\site-packages (from qtconsole>=4.7.2->Orange3) (6.1.7)\n",
      "Collecting PyQt5-Qt5>=5.15.0\n",
      "  Using cached PyQt5_Qt5-5.15.2-py3-none-win_amd64.whl (50.1 MB)\n",
      "Requirement already satisfied: decorator>=4.3.0 in c:\\programdata\\anaconda3\\lib\\site-packages (from networkx->Orange3) (4.4.2)\n",
      "Requirement already satisfied: typing-extensions>=3.7.4.3 in c:\\programdata\\anaconda3\\lib\\site-packages (from orange-widget-base>=4.18.0->Orange3) (3.7.4.3)\n",
      "Collecting rfc3986[idna2008]<2,>=1.3\n",
      "  Using cached rfc3986-1.5.0-py2.py3-none-any.whl (31 kB)\n",
      "Collecting httpcore<0.17.0,>=0.15.0\n",
      "  Using cached httpcore-0.16.2-py3-none-any.whl (68 kB)\n",
      "Collecting sniffio\n",
      "  Using cached sniffio-1.3.0-py3-none-any.whl (10 kB)\n",
      "Requirement already satisfied: pytz>=2020.1 in c:\\programdata\\anaconda3\\lib\\site-packages (from pandas!=1.5.0,>=1.3.0->Orange3) (2020.1)\n",
      "Collecting jaraco.classes\n",
      "  Using cached jaraco.classes-3.2.3-py3-none-any.whl (6.0 kB)\n",
      "Requirement already satisfied: idna<3,>=2.5 in c:\\programdata\\anaconda3\\lib\\site-packages (from requests->Orange3) (2.10)\n",
      "Requirement already satisfied: urllib3!=1.25.0,!=1.25.1,<1.26,>=1.21.1 in c:\\programdata\\anaconda3\\lib\\site-packages (from requests->Orange3) (1.25.11)\n",
      "Collecting dictdiffer\n",
      "  Using cached dictdiffer-0.9.0-py2.py3-none-any.whl (16 kB)\n",
      "Requirement already satisfied: docutils in c:\\programdata\\anaconda3\\lib\\site-packages (from orange-canvas-core<0.2a,>=0.1.27->Orange3) (0.16)\n",
      "Collecting cachecontrol[filecache]\n",
      "  Using cached CacheControl-0.12.11-py2.py3-none-any.whl (21 kB)\n",
      "Collecting qasync\n",
      "  Using cached qasync-0.23.0-py3-none-any.whl (13 kB)\n",
      "Collecting commonmark>=0.8.1\n",
      "  Using cached commonmark-0.9.1-py2.py3-none-any.whl (51 kB)\n",
      "Requirement already satisfied: et-xmlfile in c:\\programdata\\anaconda3\\lib\\site-packages (from openpyxl->Orange3) (1.0.1)\n",
      "Requirement already satisfied: jdcal in c:\\programdata\\anaconda3\\lib\\site-packages (from openpyxl->Orange3) (1.4.1)\n",
      "Requirement already satisfied: six>=1.5 in c:\\programdata\\anaconda3\\lib\\site-packages (from python-dateutil>=2.1->matplotlib>=3.2.0->Orange3) (1.15.0)\n",
      "Requirement already satisfied: pywin32>=1.0; sys_platform == \"win32\" in c:\\programdata\\anaconda3\\lib\\site-packages (from jupyter-core->qtconsole>=4.7.2->Orange3) (227)\n",
      "Requirement already satisfied: tornado>=4.2 in c:\\programdata\\anaconda3\\lib\\site-packages (from ipykernel>=4.1->qtconsole>=4.7.2->Orange3) (6.0.4)\n",
      "Requirement already satisfied: ipython>=5.0.0 in c:\\programdata\\anaconda3\\lib\\site-packages (from ipykernel>=4.1->qtconsole>=4.7.2->Orange3) (7.19.0)\n",
      "Collecting anyio<5.0,>=3.0\n",
      "  Using cached anyio-3.6.2-py3-none-any.whl (80 kB)\n",
      "Collecting h11<0.15,>=0.13\n",
      "  Using cached h11-0.14.0-py3-none-any.whl (58 kB)\n",
      "Requirement already satisfied: more-itertools in c:\\programdata\\anaconda3\\lib\\site-packages (from jaraco.classes->keyrings.alt->Orange3) (8.6.0)\n",
      "Requirement already satisfied: msgpack>=0.5.2 in c:\\programdata\\anaconda3\\lib\\site-packages (from cachecontrol[filecache]->orange-canvas-core<0.2a,>=0.1.27->Orange3) (1.0.0)\n",
      "Collecting lockfile>=0.9; extra == \"filecache\"\n",
      "  Using cached lockfile-0.12.2-py2.py3-none-any.whl (13 kB)\n",
      "Requirement already satisfied: backcall in c:\\programdata\\anaconda3\\lib\\site-packages (from ipython>=5.0.0->ipykernel>=4.1->qtconsole>=4.7.2->Orange3) (0.2.0)\n",
      "Requirement already satisfied: jedi>=0.10 in c:\\programdata\\anaconda3\\lib\\site-packages (from ipython>=5.0.0->ipykernel>=4.1->qtconsole>=4.7.2->Orange3) (0.17.1)\n",
      "Requirement already satisfied: colorama; sys_platform == \"win32\" in c:\\programdata\\anaconda3\\lib\\site-packages (from ipython>=5.0.0->ipykernel>=4.1->qtconsole>=4.7.2->Orange3) (0.4.4)\n",
      "Requirement already satisfied: prompt-toolkit!=3.0.0,!=3.0.1,<3.1.0,>=2.0.0 in c:\\programdata\\anaconda3\\lib\\site-packages (from ipython>=5.0.0->ipykernel>=4.1->qtconsole>=4.7.2->Orange3) (3.0.8)\n",
      "Requirement already satisfied: pickleshare in c:\\programdata\\anaconda3\\lib\\site-packages (from ipython>=5.0.0->ipykernel>=4.1->qtconsole>=4.7.2->Orange3) (0.7.5)\n",
      "Requirement already satisfied: parso<0.8.0,>=0.7.0 in c:\\programdata\\anaconda3\\lib\\site-packages (from jedi>=0.10->ipython>=5.0.0->ipykernel>=4.1->qtconsole>=4.7.2->Orange3) (0.7.0)\n",
      "Requirement already satisfied: wcwidth in c:\\programdata\\anaconda3\\lib\\site-packages (from prompt-toolkit!=3.0.0,!=3.0.1,<3.1.0,>=2.0.0->ipython>=5.0.0->ipykernel>=4.1->qtconsole>=4.7.2->Orange3) (0.2.5)\n",
      "Installing collected packages: scikit-learn, pygments, baycomp, PyQt5-Qt5, PyQt5-sip, PyQt5, PyQtWebEngine-Qt5, PyQtWebEngine, bottleneck, openTSNE, python-louvain, dictdiffer, lockfile, cachecontrol, qasync, commonmark, AnyQt, orange-canvas-core, orange-widget-base, rfc3986, sniffio, anyio, h11, httpcore, httpx, pandas, jaraco.classes, keyrings.alt, serverfiles, Orange3\n",
      "  Attempting uninstall: scikit-learn\n",
      "    Found existing installation: scikit-learn 0.23.2\n",
      "    Uninstalling scikit-learn-0.23.2:\n"
     ]
    }
   ],
   "source": [
    "!pip install Orange3"
   ]
  },
  {
   "cell_type": "code",
   "execution_count": 9,
   "metadata": {},
   "outputs": [
    {
     "ename": "ModuleNotFoundError",
     "evalue": "No module named 'Orange'",
     "output_type": "error",
     "traceback": [
      "\u001b[1;31m---------------------------------------------------------------------------\u001b[0m",
      "\u001b[1;31mModuleNotFoundError\u001b[0m                       Traceback (most recent call last)",
      "\u001b[1;32m<ipython-input-9-580e7b4a4fbc>\u001b[0m in \u001b[0;36m<module>\u001b[1;34m\u001b[0m\n\u001b[1;32m----> 1\u001b[1;33m \u001b[1;32mimport\u001b[0m \u001b[0mOrange\u001b[0m\u001b[1;33m\u001b[0m\u001b[1;33m\u001b[0m\u001b[0m\n\u001b[0m",
      "\u001b[1;31mModuleNotFoundError\u001b[0m: No module named 'Orange'"
     ]
    }
   ],
   "source": [
    "import Orange"
   ]
  },
  {
   "cell_type": "code",
   "execution_count": null,
   "metadata": {},
   "outputs": [],
   "source": []
  }
 ],
 "metadata": {
  "kernelspec": {
   "display_name": "Python 3",
   "language": "python",
   "name": "python3"
  },
  "language_info": {
   "codemirror_mode": {
    "name": "ipython",
    "version": 3
   },
   "file_extension": ".py",
   "mimetype": "text/x-python",
   "name": "python",
   "nbconvert_exporter": "python",
   "pygments_lexer": "ipython3",
   "version": "3.8.5"
  }
 },
 "nbformat": 4,
 "nbformat_minor": 4
}
